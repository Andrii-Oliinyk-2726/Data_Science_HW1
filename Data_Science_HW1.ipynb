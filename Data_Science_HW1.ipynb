{
  "nbformat": 4,
  "nbformat_minor": 0,
  "metadata": {
    "colab": {
      "provenance": [],
      "toc_visible": true,
      "authorship_tag": "ABX9TyOGTKSe5/nfdWQ72EUUPZmE",
      "include_colab_link": true
    },
    "kernelspec": {
      "name": "python3",
      "display_name": "Python 3"
    },
    "language_info": {
      "name": "python"
    }
  },
  "cells": [
    {
      "cell_type": "markdown",
      "metadata": {
        "id": "view-in-github",
        "colab_type": "text"
      },
      "source": [
        "<a href=\"https://colab.research.google.com/github/Andrii-Oliinyk-2726/Data_Science_HW1/blob/main/Data_Science_HW1.ipynb\" target=\"_parent\"><img src=\"https://colab.research.google.com/assets/colab-badge.svg\" alt=\"Open In Colab\"/></a>"
      ]
    },
    {
      "cell_type": "code",
      "source": [
        "# 1. Створіть одновимірний масив (вектор) з першими 10-ма натуральними числами та виведіть його значення.\n",
        "import numpy as np\n",
        "nat_numbers = np.arange(1, 11)\n",
        "print(nat_numbers)"
      ],
      "metadata": {
        "colab": {
          "base_uri": "https://localhost:8080/"
        },
        "id": "6Nbdg02vdvLj",
        "outputId": "1c8f8868-ab11-4caf-d503-9dce4a5e2e47"
      },
      "execution_count": 2,
      "outputs": [
        {
          "output_type": "stream",
          "name": "stdout",
          "text": [
            "[ 1  2  3  4  5  6  7  8  9 10]\n"
          ]
        }
      ]
    },
    {
      "cell_type": "code",
      "source": [
        "# 2. Створіть двовимірний масив (матрицю) розміром 3x3, заповніть його нулями та виведіть його значення.\n",
        "matrix = np.zeros((3, 3), dtype=\"u1\")\n",
        "print(matrix)"
      ],
      "metadata": {
        "colab": {
          "base_uri": "https://localhost:8080/"
        },
        "id": "qRYvBdbCgs8u",
        "outputId": "1cf8fb7e-bd2b-4553-f10b-035b1c219d6c"
      },
      "execution_count": 4,
      "outputs": [
        {
          "output_type": "stream",
          "name": "stdout",
          "text": [
            "[[0 0 0]\n",
            " [0 0 0]\n",
            " [0 0 0]]\n"
          ]
        }
      ]
    },
    {
      "cell_type": "code",
      "source": [
        "# 3. Створіть масив розміром 5x5, заповніть його випадковими цілими числами в діапазоні від 1 до 10 та виведіть його значення.\n",
        "matrix = np.random.randint(1, 11, size=(5, 5))\n",
        "print(matrix)"
      ],
      "metadata": {
        "colab": {
          "base_uri": "https://localhost:8080/"
        },
        "id": "WfADuSRMW4f8",
        "outputId": "a0d6a622-e5fc-4c0b-8bda-f85153a4c29b"
      },
      "execution_count": 23,
      "outputs": [
        {
          "output_type": "stream",
          "name": "stdout",
          "text": [
            "[[ 3  9  5 10 10]\n",
            " [ 4  3  9  5  7]\n",
            " [10  4  8 10  2]\n",
            " [ 1  7  8  7  6]\n",
            " [10  4  1  8  4]]\n"
          ]
        }
      ]
    },
    {
      "cell_type": "code",
      "source": [
        "# 4. Створіть масив розміром 4x4, заповніть його випадковими дійсними числами в діапазоні від 0 до 1 та виведіть його значення.\n",
        "matrix = np.random.random((4, 4))\n",
        "print(matrix)"
      ],
      "metadata": {
        "colab": {
          "base_uri": "https://localhost:8080/"
        },
        "id": "FffagLKQh4uV",
        "outputId": "9c8f15be-af42-4d2c-ecfd-105b346f9953"
      },
      "execution_count": 25,
      "outputs": [
        {
          "output_type": "stream",
          "name": "stdout",
          "text": [
            "[[0.22753548 0.30524366 0.0229801  0.21437795]\n",
            " [0.44863209 0.75028153 0.82798864 0.98038211]\n",
            " [0.94088921 0.45237811 0.50748127 0.23593545]\n",
            " [0.45545256 0.89771435 0.83326799 0.51625884]]\n"
          ]
        }
      ]
    },
    {
      "cell_type": "code",
      "source": [
        "# 5. Створіть два одновимірних масиви розміром 5, заповніть їх випадковими цілими числами в діапазоні від 1 до 10\n",
        "#    та виконайте на них поелементні операції додавання, віднімання та множення.\n",
        "a = np.random.randint(1, 11, size=5)\n",
        "b = np.random.randint(1, 11, size=5)\n",
        "print('a:             ', a)\n",
        "print('b:             ', b)\n",
        "print('Add:           ', a+b)\n",
        "print('Subtraction:   ', a-b)\n",
        "print('Mltiplication: ', a*b)"
      ],
      "metadata": {
        "colab": {
          "base_uri": "https://localhost:8080/"
        },
        "id": "nO2ENTjQieiX",
        "outputId": "ffcb1e2d-148f-4b04-976d-e8cebcd2ac0a"
      },
      "execution_count": 38,
      "outputs": [
        {
          "output_type": "stream",
          "name": "stdout",
          "text": [
            "a:              [ 5  1  7  1 10]\n",
            "b:              [ 1  4  1  5 10]\n",
            "Add:            [ 6  5  8  6 20]\n",
            "Subtraction:    [ 4 -3  6 -4  0]\n",
            "Mltiplication:  [  5   4   7   5 100]\n"
          ]
        }
      ]
    },
    {
      "cell_type": "code",
      "source": [
        "# 6. Створіть два вектори розміром 7, заповніть довільними числами та знайдіть їх скалярний добуток.\n",
        "a = np.random.random(7)\n",
        "b = np.random.random(7)\n",
        "print('a: ', a)\n",
        "print('b: ', b)\n",
        "print('Scalar product: ', np.dot(a, b))\n"
      ],
      "metadata": {
        "colab": {
          "base_uri": "https://localhost:8080/"
        },
        "id": "VLoM5vwVlqt4",
        "outputId": "c2ef5557-9ce4-44d3-b5ad-b6f6697b876d"
      },
      "execution_count": 46,
      "outputs": [
        {
          "output_type": "stream",
          "name": "stdout",
          "text": [
            "a:  [0.68065995 0.71286327 0.61605498 0.51826153 0.53087657 0.35347035\n",
            " 0.43292775]\n",
            "b:  [0.41491016 0.50433667 0.89602046 0.83859181 0.6378724  0.95390019\n",
            " 0.40226597]\n",
            "Scalar product:  2.478502602481039\n"
          ]
        }
      ]
    },
    {
      "cell_type": "code",
      "source": [
        "# 7. Створіть дві матриці розміром 2x2 та 2x3, заповніть їх випадковими цілими числами в діапазоні від 1 до 10 та перемножте їх між собою.\n",
        "a = np.random.randint(1, 11, size=(2, 2))\n",
        "b = np.random.randint(1, 11, size=(2, 3))\n",
        "\n",
        "print(a)\n",
        "print(b)\n",
        "print(np.dot(a, b))"
      ],
      "metadata": {
        "colab": {
          "base_uri": "https://localhost:8080/"
        },
        "id": "CngTdXuRpWb6",
        "outputId": "0f5f9190-fcda-4211-d14e-0968c7271d90"
      },
      "execution_count": 2,
      "outputs": [
        {
          "output_type": "stream",
          "name": "stdout",
          "text": [
            "[[ 2  8]\n",
            " [ 1 10]]\n",
            "[[3 6 3]\n",
            " [7 2 9]]\n",
            "[[62 28 78]\n",
            " [73 26 93]]\n"
          ]
        }
      ]
    },
    {
      "cell_type": "code",
      "source": [
        "# 8. Створіть матрицю розміром 3x3, заповніть її випадковими цілими числами в діапазоні від 1 до 10 та знайдіть її обернену матрицю.\n",
        "a = np.random.randint(1, 11, size=(3, 3))\n",
        "print(a)\n",
        "a_inv = np.linalg.inv(a)\n",
        "print(a_inv)"
      ],
      "metadata": {
        "colab": {
          "base_uri": "https://localhost:8080/"
        },
        "id": "YxWLG4pCM9A_",
        "outputId": "3b0a7a1a-17a3-4712-dfb9-2a07a7a06b34"
      },
      "execution_count": 10,
      "outputs": [
        {
          "output_type": "stream",
          "name": "stdout",
          "text": [
            "[[7 8 8]\n",
            " [7 9 4]\n",
            " [7 5 9]]\n",
            "[[-0.79220779  0.41558442  0.51948052]\n",
            " [ 0.45454545 -0.09090909 -0.36363636]\n",
            " [ 0.36363636 -0.27272727 -0.09090909]]\n"
          ]
        }
      ]
    },
    {
      "cell_type": "code",
      "source": [
        "# 9. Створіть матрицю розміром 4x4, заповніть її випадковими дійсними числами в діапазоні від 0 до 1 та транспонуйте її.\n",
        "a = np.random.random((4, 4))\n",
        "b = a.T\n",
        "print(a)\n",
        "print(b)"
      ],
      "metadata": {
        "colab": {
          "base_uri": "https://localhost:8080/"
        },
        "id": "Xy4EWSjIN80g",
        "outputId": "65b349a4-3b8d-4e37-f471-f7c3852da64c"
      },
      "execution_count": 11,
      "outputs": [
        {
          "output_type": "stream",
          "name": "stdout",
          "text": [
            "[[0.70648268 0.16390203 0.58524576 0.2565849 ]\n",
            " [0.51738814 0.94328198 0.12454916 0.43898089]\n",
            " [0.7749961  0.26528024 0.39398733 0.53471558]\n",
            " [0.82516655 0.23909698 0.73338307 0.29651918]]\n",
            "[[0.70648268 0.51738814 0.7749961  0.82516655]\n",
            " [0.16390203 0.94328198 0.26528024 0.23909698]\n",
            " [0.58524576 0.12454916 0.39398733 0.73338307]\n",
            " [0.2565849  0.43898089 0.53471558 0.29651918]]\n"
          ]
        }
      ]
    },
    {
      "cell_type": "code",
      "source": [
        "# 10. Створіть матрицю розміром 3x4 та вектор розміром 4, заповніть їх випадковими цілими числами в діапазоні від 1 до 10 та перемножте матрицю на вектор.\n",
        "matrix = np.random.randint(1, 11, size=(3, 4))\n",
        "v = np.random.randint(1, 11, size=4)\n",
        "print(matrix)\n",
        "print(v)\n",
        "print(np.dot(matrix, v))"
      ],
      "metadata": {
        "colab": {
          "base_uri": "https://localhost:8080/"
        },
        "id": "v4ZKpjKdSTRZ",
        "outputId": "a62cf846-96a1-4085-d450-1856918e1ef8"
      },
      "execution_count": 19,
      "outputs": [
        {
          "output_type": "stream",
          "name": "stdout",
          "text": [
            "[[ 9  4  4 10]\n",
            " [ 9  4 10  4]\n",
            " [ 1 10  4  3]]\n",
            "[8 7 5 6]\n",
            "[180 174 116]\n"
          ]
        }
      ]
    },
    {
      "cell_type": "code",
      "source": [
        "# 11. Створіть матрицю розміром 2x3 та вектор розміром 3, заповніть їх випадковими дійсними числами в діапазоні від 0 до 1 та перемножте матрицю на вектор.\n",
        "matrix = np.random.random((2, 3))\n",
        "v = np.random.random(3)\n",
        "print(matrix)\n",
        "print(v)\n",
        "print(np.dot(matrix, v))"
      ],
      "metadata": {
        "colab": {
          "base_uri": "https://localhost:8080/"
        },
        "id": "iiJny-mLnqOn",
        "outputId": "aca523fe-c248-41b2-d1e2-a72ee84b48a1"
      },
      "execution_count": 18,
      "outputs": [
        {
          "output_type": "stream",
          "name": "stdout",
          "text": [
            "[[0.43521234 0.96244293 0.78489666]\n",
            " [0.78269063 0.55063823 0.07686865]]\n",
            "[0.29497372 0.76866318 0.65247297]\n",
            "[1.3802945  0.70428321]\n"
          ]
        }
      ]
    },
    {
      "cell_type": "code",
      "source": [
        "# 12. Створіть дві матриці розміром 2x2, заповніть їх випадковими цілими числами в діапазоні від 1 до 10 та виконайте їхнє поелементне множення.\n",
        "matrix_1 = np.random.randint(1, 11, size=(2, 2))\n",
        "matrix_2 = np.random.randint(1, 11, size=(2, 2))\n",
        "print(matrix_1)\n",
        "print(matrix_2)\n",
        "print(matrix_1 * matrix_2)"
      ],
      "metadata": {
        "colab": {
          "base_uri": "https://localhost:8080/"
        },
        "id": "OepSvmJPUuZP",
        "outputId": "099217a3-b6a0-4230-e12d-78e0bc411fbb"
      },
      "execution_count": 21,
      "outputs": [
        {
          "output_type": "stream",
          "name": "stdout",
          "text": [
            "[[5 8]\n",
            " [4 4]]\n",
            "[[2 5]\n",
            " [3 8]]\n",
            "[[10 40]\n",
            " [12 32]]\n"
          ]
        }
      ]
    },
    {
      "cell_type": "code",
      "source": [
        "# 13. Створіть дві матриці розміром 2x2, заповніть їх випадковими цілими числами в діапазоні від 1 до 10 та знайдіть їх добуток.\n",
        "matrix_1 = np.random.randint(1, 11, size=(2, 2))\n",
        "matrix_2 = np.random.randint(1, 11, size=(2, 2))\n",
        "print(matrix_1)\n",
        "print(matrix_2)\n",
        "print(np.dot(matrix_1, matrix_2))"
      ],
      "metadata": {
        "colab": {
          "base_uri": "https://localhost:8080/"
        },
        "id": "DYrLUQrZW-Yy",
        "outputId": "7b1ab109-a593-4f07-a6cb-d9ed56ba7e72"
      },
      "execution_count": 22,
      "outputs": [
        {
          "output_type": "stream",
          "name": "stdout",
          "text": [
            "[[ 3  5]\n",
            " [10  9]]\n",
            "[[7 6]\n",
            " [5 6]]\n",
            "[[ 46  48]\n",
            " [115 114]]\n"
          ]
        }
      ]
    },
    {
      "cell_type": "code",
      "source": [
        "# 14. Створіть матрицю розміром 5x5, заповніть її випадковими цілими числами в діапазоні від 1 до 100 та знайдіть суму елементів матриці.\n",
        "matrix = np.random.randint(1, 101, size=(5, 5))\n",
        "print(matrix)\n",
        "print(matrix.sum())"
      ],
      "metadata": {
        "colab": {
          "base_uri": "https://localhost:8080/"
        },
        "id": "x0iqcdtuZ0fN",
        "outputId": "402eae33-8b7f-45de-cdf8-ad24499255f1"
      },
      "execution_count": 30,
      "outputs": [
        {
          "output_type": "stream",
          "name": "stdout",
          "text": [
            "[[37 59 25 97 48]\n",
            " [36 11 63 29 60]\n",
            " [37 61 15 57 56]\n",
            " [45 67 55 45 62]\n",
            " [64 98 65  3 96]]\n",
            "1291\n"
          ]
        }
      ]
    },
    {
      "cell_type": "code",
      "source": [
        "# 15. Створіть дві матриці розміром 4x4, заповніть їх випадковими цілими числами в діапазоні від 1 до 10 та знайдіть їхню різницю.\n",
        "matrix_1 = np.random.randint(1, 11, size=(4, 4))\n",
        "matrix_2 = np.random.randint(1, 11, size=(4, 4))\n",
        "print(matrix_1)\n",
        "print(matrix_2)\n",
        "print(matrix_1 - matrix_2)"
      ],
      "metadata": {
        "colab": {
          "base_uri": "https://localhost:8080/"
        },
        "id": "IEiVJrTAa9Xa",
        "outputId": "361968f8-9c31-4fe9-eb27-d1d604e17a99"
      },
      "execution_count": 33,
      "outputs": [
        {
          "output_type": "stream",
          "name": "stdout",
          "text": [
            "[[3 8 6 8]\n",
            " [4 5 7 6]\n",
            " [1 5 6 4]\n",
            " [2 6 8 6]]\n",
            "[[ 1  1  3  1]\n",
            " [ 1  7  8 10]\n",
            " [10  2  1  3]\n",
            " [ 4  8  1  2]]\n",
            "[[ 2  7  3  7]\n",
            " [ 3 -2 -1 -4]\n",
            " [-9  3  5  1]\n",
            " [-2 -2  7  4]]\n"
          ]
        }
      ]
    },
    {
      "cell_type": "code",
      "source": [
        "# 16. Створіть матрицю розміром 3x3, заповніть її випадковими дійсними числами в діапазоні від 0 до 1 та знайдіть вектор-стовпчик, що містить суму елементів кожного рядка матриці.\n",
        "matrix = np.random.random((3, 3))\n",
        "row_sums = np.sum(matrix, axis=1)\n",
        "column_vector = row_sums.reshape(-1, 1)\n",
        "print(matrix)\n",
        "# print(row_sums)\n",
        "print(column_vector)"
      ],
      "metadata": {
        "colab": {
          "base_uri": "https://localhost:8080/"
        },
        "id": "lvS5y1MscVW_",
        "outputId": "2f83afd2-0211-423d-b1d7-d6585c3eb8e7"
      },
      "execution_count": 41,
      "outputs": [
        {
          "output_type": "stream",
          "name": "stdout",
          "text": [
            "[[0.76931318 0.13227394 0.98033823]\n",
            " [0.77978803 0.04228303 0.63802686]\n",
            " [0.30731956 0.97775712 0.61886288]]\n",
            "[[1.88192535]\n",
            " [1.46009792]\n",
            " [1.90393956]]\n"
          ]
        }
      ]
    },
    {
      "cell_type": "code",
      "source": [
        "# 17. Створіть матрицю розміром 3x4 з довільними цілими числами і створінь матрицю з квадратами цих чисел.\n",
        "matrix = np.random.randint(1, 11, size=(3, 4))\n",
        "squared_matrix = np.square(matrix)\n",
        "print(matrix)\n",
        "print(squared_matrix)"
      ],
      "metadata": {
        "colab": {
          "base_uri": "https://localhost:8080/"
        },
        "id": "dXGfxXi9hm6O",
        "outputId": "348b956c-18b4-4399-852e-c0fa1f4e11fc"
      },
      "execution_count": 46,
      "outputs": [
        {
          "output_type": "stream",
          "name": "stdout",
          "text": [
            "[[ 9  9 10  4]\n",
            " [ 8  8  9  8]\n",
            " [ 8  6  1  6]]\n",
            "[[ 81  81 100  16]\n",
            " [ 64  64  81  64]\n",
            " [ 64  36   1  36]]\n"
          ]
        }
      ]
    },
    {
      "cell_type": "code",
      "source": [
        "# 18. Створіть вектор розміром 4, заповніть його випадковими цілими числами в діапазоні від 1 до 50 та знайдіть вектор з квадратними коренями цих чисел.\n",
        "v = np.random.randint(1, 51, size=4)\n",
        "sqrt_v = np.sqrt(v)\n",
        "print(v)\n",
        "print(sqrt_v)"
      ],
      "metadata": {
        "colab": {
          "base_uri": "https://localhost:8080/"
        },
        "id": "X9C7_ZbmWKtw",
        "outputId": "5b82b23a-d92c-4378-9b6b-3b91c85e8c89"
      },
      "execution_count": 51,
      "outputs": [
        {
          "output_type": "stream",
          "name": "stdout",
          "text": [
            "[ 7  6  1 28]\n",
            "[2.64575131 2.44948974 1.         5.29150262]\n"
          ]
        }
      ]
    }
  ]
}